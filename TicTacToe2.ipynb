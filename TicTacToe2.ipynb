{
 "cells": [
  {
   "cell_type": "code",
   "execution_count": null,
   "metadata": {},
   "outputs": [],
   "source": [
    "import random, time\n",
    "win = False\n",
    "board = [\" \", \" \", \" \", \" \", \" \", \" \", \" \", \" \", \" \", \" \", ]\n",
    "player = True\n",
    "\n",
    "\n",
    "def layout():\n",
    "    print(\"   |   |    \")\n",
    "    print(\" \"+board[1]+\" | \"+board[2]+\" |  \"+board[3]+\"  \")\n",
    "    print(\"---|---|---\")\n",
    "    print(\" \"+board[4]+\" | \"+board[5]+\" |  \"+board[6]+\"  \")\n",
    "    print(\"---|---|---\")\n",
    "    print(\" \"+board[7]+\" | \"+board[8]+\" |  \"+board[9]+\"  \")\n",
    "    print(\"   |   |   \")\n",
    "\n",
    "\n",
    "layout()\n",
    "while not win:\n",
    "    choice = int(input(\"please enter a space\"))\n",
    "    if(board[choice]) == \" \":\n",
    "        if player:\n",
    "            board[choice] = \"X\"\n",
    "            player = False\n",
    "        elif not player:\n",
    "            board[choice] = \"O\"\n",
    "            player = True\n",
    "    else:\n",
    "        print(\"\\n space taken try again\")\n",
    "\n",
    "    time.sleep(0.1)\n",
    "    layout()\n",
    "    if board[1] == \"X\" and board[2] == \"X\" and board[3] == \"X\" or \\\n",
    "        board[4] == \"X\" and board[5] == \"X\" and board[6] == \"X\" or \\\n",
    "        board[7] == \"X\" and board[8] == \"X\" and board[9] == \"X\" or \\\n",
    "        board[1] == \"X\" and board[4] == \"X\" and board[7] == \"X\" or \\\n",
    "        board[2] == \"X\" and board[5] == \"X\" and board[8] == \"X\" or \\\n",
    "        board[3] == \"X\" and board[6] == \"X\" and board[9] == \"X\" or \\\n",
    "        board[1] == \"X\" and board[5] == \"X\" and board[9] == \"X\" or \\\n",
    "        board[3] == \"X\" and board[5] == \"X\" and board[7] == \"X\":\n",
    "            print(\" \\n X WINS!\")\n",
    "            win = True\n",
    "\n",
    "    elif board[1] == \"O\" and board[2] == \"O\" and board[3] == \"O\" or \\\n",
    "        board[4] == \"O\" and board[5] == \"O\" and board[6] == \"O\" or \\\n",
    "        board[7] == \"O\" and board[8] == \"O\" and board[9] == \"O\" or \\\n",
    "        board[1] == \"O\" and board[4] == \"O\" and board[7] == \"O\" or \\\n",
    "        board[2] == \"O\" and board[5] == \"O\" and board[8] == \"O\" or \\\n",
    "        board[3] == \"O\" and board[6] == \"O\" and board[9] == \"O\" or \\\n",
    "        board[1] == \"O\" and board[5] == \"O\" and board[9] == \"O\" or \\\n",
    "        board[3] == \"O\" and board[5] == \"O\" and board[7] == \"O\":\n",
    "\n",
    "            print(\" \\n O WINS!\")\n",
    "            win = True"
   ]
  }
 ],
 "metadata": {
  "kernelspec": {
   "display_name": "Python 3",
   "language": "python",
   "name": "python3"
  },
  "language_info": {
   "codemirror_mode": {
    "name": "ipython",
    "version": 3
   },
   "file_extension": ".py",
   "mimetype": "text/x-python",
   "name": "python",
   "nbconvert_exporter": "python",
   "pygments_lexer": "ipython3",
   "version": "3.5.2"
  }
 },
 "nbformat": 4,
 "nbformat_minor": 2
}
