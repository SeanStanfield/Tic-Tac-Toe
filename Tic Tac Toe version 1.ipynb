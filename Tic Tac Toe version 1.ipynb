{
 "cells": [
  {
   "cell_type": "code",
   "execution_count": null,
   "metadata": {},
   "outputs": [
    {
     "name": "stdout",
     "output_type": "stream",
     "text": [
      "   |   |    \n",
      "   |   |     \n",
      "---|---|---\n",
      "   |   |     \n",
      "---|---|---\n",
      "   |   |     \n",
      "   |   |   \n",
      "please enter a space1\n",
      "   |   |    \n",
      " X |   |     \n",
      "---|---|---\n",
      "   |   |     \n",
      "---|---|---\n",
      "   |   |     \n",
      "   |   |   \n",
      "please enter a space2\n",
      "   |   |    \n",
      " X | O |     \n",
      "---|---|---\n",
      "   |   |     \n",
      "---|---|---\n",
      "   |   |     \n",
      "   |   |   \n",
      "please enter a space3\n",
      "   |   |    \n",
      " X | O |  X  \n",
      "---|---|---\n",
      "   |   |     \n",
      "---|---|---\n",
      "   |   |     \n",
      "   |   |   \n",
      "please enter a space7\n",
      "   |   |    \n",
      " X | O |  X  \n",
      "---|---|---\n",
      "   |   |     \n",
      "---|---|---\n",
      " O |   |     \n",
      "   |   |   \n",
      "please enter a space9\n",
      "   |   |    \n",
      " X | O |  X  \n",
      "---|---|---\n",
      "   |   |     \n",
      "---|---|---\n",
      " O |   |  X  \n",
      "   |   |   \n"
     ]
    }
   ],
   "source": [
    "import random, time\n",
    "win = False\n",
    "board = [\" \", \" \", \" \", \" \", \" \", \" \", \" \", \" \", \" \", \" \", ]\n",
    "player = True\n",
    "\n",
    "\n",
    "def layout():\n",
    "    print(\"   |   |    \")\n",
    "    print(\" \"+board[1]+\" | \"+board[2]+\" |  \"+board[3]+\"  \")\n",
    "    print(\"---|---|---\")\n",
    "    print(\" \"+board[4]+\" | \"+board[5]+\" |  \"+board[6]+\"  \")\n",
    "    print(\"---|---|---\")\n",
    "    print(\" \"+board[7]+\" | \"+board[8]+\" |  \"+board[9]+\"  \")\n",
    "    print(\"   |   |   \")\n",
    "\n",
    "\n",
    "layout()\n",
    "while not win:\n",
    "    choice = int(input(\"please enter a space\"))\n",
    "    if(board[choice]) == \" \":\n",
    "        if player:\n",
    "            board[choice] = \"X\"\n",
    "            player = False\n",
    "        elif not player:\n",
    "            board[choice] = \"O\"\n",
    "            player = True\n",
    "    else:\n",
    "        print(\"\\n space taken try again\")\n",
    "\n",
    "    time.sleep(0.1)\n",
    "    layout()"
   ]
  }
 ],
 "metadata": {
  "kernelspec": {
   "display_name": "Python 3",
   "language": "python",
   "name": "python3"
  },
  "language_info": {
   "codemirror_mode": {
    "name": "ipython",
    "version": 3
   },
   "file_extension": ".py",
   "mimetype": "text/x-python",
   "name": "python",
   "nbconvert_exporter": "python",
   "pygments_lexer": "ipython3",
   "version": "3.5.2"
  }
 },
 "nbformat": 4,
 "nbformat_minor": 2
}
